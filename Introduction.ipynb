{
 "cells": [
  {
   "cell_type": "markdown",
   "metadata": {},
   "source": [
    "# **Introduction to Recommendation System**"
   ]
  },
  {
   "cell_type": "markdown",
   "metadata": {},
   "source": [
    "## Hệ thống đề xuất là gì?"
   ]
  },
  {
   "cell_type": "markdown",
   "metadata": {},
   "source": [
    "\n",
    "> Recommendation system, còn được gọi là hệ thống đề xuất, là một loại ứng dụng phần mềm hoặc thuật toán được thiết kế để cung cấp các đề xuất hoặc đề xuất được cá nhân hóa cho người dùng. Các hệ thống này phân tích sở thích, hành vi hoặc kiểu mẫu của người dùng để đề xuất các mục mà người dùng có thể thấy thú vị, hữu ích hoặc có liên quan. Mục tiêu là nâng cao trải nghiệm, mức độ tương tác và sự hài lòng của người dùng bằng cách cung cấp nội dung được cá nhân hóa.\n",
    "\n",
    "Nhìn chung có hai loại hệ thống đề xuất chính:\n",
    "\n",
    "- Content-Based Filtering:\n",
    "\n",
    "  - Cách tiếp cận này đề xuất các mục tương tự với những mục mà người dùng đã thích hoặc tương tác trước đây.\n",
    "  - Nó dựa vào việc phân tích các thuộc tính hoặc nội dung của các mục và sở thích của người dùng.\n",
    "  - Ví dụ: nếu người dùng thể hiện sự quan tâm đến phim thuộc một thể loại cụ thể, hệ thống dựa trên nội dung có thể đề xuất các phim khác có thể loại tương tự.\n",
    "- Collaborative Filtering: đề xuất các mục dựa trên sở thích và hành vi của người dùng có cùng sở thích. Có 2 loại subtypes:\n",
    "  - User-Based Collaborative Filtering: Đề xuất các mục mà người dùng có cùng sở thích đã thích.\n",
    "  - Item-Based Collaborative Filtering:  Đề xuất các vật phẩm tương tự với những vật phẩm mà người dùng đã thích\n",
    "\n",
    "  Collaborative filtering có thể hiệu quả hơn khi có một lượng lớn dữ liệu tương tác của người dùng.\n",
    "\n",
    "- Hệ thống đề xuất được sử dụng rộng rãi trong nhiều ngành khác nhau, bao gồm thương mại điện tử, dịch vụ phát trực tuyến, mạng xã hội, v.v. Một số ví dụ nổi tiếng bao gồm:\n",
    "\n",
    "    - E-commerce: Đề xuất sản phẩm dựa trên lịch sử mua hàng hoặc duyệt web trước đây.\n",
    "    - Streaming Services: Đề xuất phim hoặc chương trình truyền hình dựa trên lịch sử xem.\n",
    "    - Social Media: Đề xuất bạn bè, nhóm hoặc nội dung dựa trên tương tác của người dùng.\n",
    "    \n",
    "Các hệ thống này thường tận dụng các kỹ thuật học máy, bao gồm phân cụm, nhân tố ma trận, học sâu và các kỹ thuật khác để đưa ra dự đoán chính xác và cải thiện chất lượng đề xuất theo thời gian."
   ]
  },
  {
   "cell_type": "markdown",
   "metadata": {},
   "source": [
    "## Làm thế nào để xây dựng hệ thống đề xuất?"
   ]
  },
  {
   "cell_type": "markdown",
   "metadata": {},
   "source": [
    "<img src=\"https://raw.githubusercontent.com/jalajthanaki/Movie_recommendation_engine/master/img/2_6.png\"\n",
    "align=\"middle\" alt=\"Figure 2.6\" data-canonical-src=\"\" style=\"width:60%;height:60%\">"
   ]
  },
  {
   "cell_type": "markdown",
   "metadata": {},
   "source": [
    "### Content-based  recommendation engine"
   ]
  },
  {
   "cell_type": "markdown",
   "metadata": {},
   "source": [
    "* Content based system gợi ý cho bạn những gì bạn thích dựa trên những gì bạn đã thích trước đây.\n",
    "* Đề xuất các mặt hàng dựa trên: giao dịch mua, đánh giá và lượt thích trước đó của người dùng\n",
    "* Kết hợp: Mô tả mặt hàng và mô tả hồ sơ người dùng\n",
    "* Tạo điểm tương đồng\n",
    "* Đề xuất các mục dựa trên điểm tương đồng"
   ]
  },
  {
   "cell_type": "markdown",
   "metadata": {},
   "source": [
    "<img src=\"https://raw.githubusercontent.com/jalajthanaki/Movie_recommendation_engine/master/img/2_7.png\"\n",
    "align=\"middle\" alt=\"Figure 2.7\" data-canonical-src=\"\" style=\"width:70%;height:70%\">"
   ]
  },
  {
   "cell_type": "markdown",
   "metadata": {},
   "source": [
    "**TF-IDF : Term Frequency - Inverse Document Frequency**"
   ]
  },
  {
   "cell_type": "markdown",
   "metadata": {},
   "source": [
    "\\begin{equation}\\large\n",
    "    TF_{(t_{i})} = \\frac{Number\\;of\\;times\\; term\\; t_{t} \\;appears\\; in \\;a \\;document}{Total\\; number\\; of\\; terms\\; in\\; the\\; document }\n",
    "\\end{equation}\n",
    "\n"
   ]
  },
  {
   "cell_type": "markdown",
   "metadata": {},
   "source": [
    "\\begin{equation}\\large\n",
    "    IDF_{(t_{i})} = \\log_{10}\\frac{Total\\;number\\;of\\;documents}{Number\\;of\\; documents\\; with\\; term\\; t_{i}\\;in\\; it}\n",
    "\\end{equation}"
   ]
  },
  {
   "cell_type": "markdown",
   "metadata": {},
   "source": [
    "\n",
    "\\begin{equation}\n",
    "    {TF}\\times{IDF}= (\\frac{Number\\;of\\;times\\; term\\; t_{i} \\;appears\\; in \\;a \\;document}{Total\\; number\\; of\\; terms\\; in\\; the\\; document })\\;\\times\\;\n",
    "    {\\log_{10}(\\frac{Total\\;number\\;of\\;documents}{Number\\;of\\; documents\\; with\\; term\\; t_{i}\\;in\\; it})}\n",
    "    \\end{equation}\n",
    "\n",
    "\n",
    "\n"
   ]
  },
  {
   "cell_type": "markdown",
   "metadata": {},
   "source": [
    "<img src=\"https://raw.githubusercontent.com/jalajthanaki/Movie_recommendation_engine/master/img/2_14.png\"\n",
    "align=\"middle\" alt=\"Figure 2.14\" data-canonical-src=\"\" style=\"width:60%;height:60%\">\n",
    "   "
   ]
  },
  {
   "cell_type": "markdown",
   "metadata": {},
   "source": [
    "\\begin{equation}\\large\n",
    "   \\vec{a} \\cdot \\vec{b} = \\sum_{i=1}^n a_ib_i = a_1b_1 + a_2b_2 + \\cdots + a_nb_n  \n",
    "\\end{equation}"
   ]
  },
  {
   "cell_type": "markdown",
   "metadata": {},
   "source": [
    "\\begin{equation}\\large\n",
    "   \\cos\\theta = \\frac{\\overrightarrow{a}.\\overrightarrow{b}}{\\lVert{\\overrightarrow{a}}\\rVert {\\lVert{\\overrightarrow{b}}\\rVert}}\n",
    "\\end{equation}\n"
   ]
  },
  {
   "cell_type": "markdown",
   "metadata": {},
   "source": [
    "\\begin{equation}\\large\n",
    "   \\lVert{\\overrightarrow{a}}\\rVert = \\sqrt{a_{1}^2 + a_{2}^2 +a_{3}^2 + ... + a_{n}^2}\n",
    "   \\\\\n",
    "   \\\\\\large\n",
    "   \\lVert{\\overrightarrow{b}}\\rVert = \\sqrt{b_{1}^2 + b_{2}^2 +b_{3}^2 + ... + b_{n}^2}\n",
    "\\end{equation}"
   ]
  },
  {
   "cell_type": "markdown",
   "metadata": {},
   "source": [
    "<img src=\"https://raw.githubusercontent.com/jalajthanaki/Movie_recommendation_engine/master/img/2_15.png\"\n",
    "align=\"middle\" alt=\"Figure 2.15\" data-canonical-src=\"\" style=\"width:60%;height:60%\">"
   ]
  },
  {
   "cell_type": "markdown",
   "metadata": {},
   "source": [
    "| Value of $cos \\theta$ | Value of $\\theta$ | Conclusion|\n",
    "|:---:|:---: |:---:|\n",
    "| +1 |$0^{\\circ}$   | Vectors are more similar |\n",
    "|  0 |$90^{\\circ}$  | Vectors are not similar (orthogonal vectors)|\n",
    "| -1 |$180^{\\circ}$ | Vectors are diametrically dissimilar |\n"
   ]
  },
  {
   "cell_type": "markdown",
   "metadata": {},
   "source": [
    "### **Weighted Rating (WR)**"
   ]
  },
  {
   "cell_type": "markdown",
   "metadata": {},
   "source": [
    "* Cụ thể trong bối cảnh của công cụ đề xuất phim"
   ]
  },
  {
   "cell_type": "markdown",
   "metadata": {},
   "source": [
    "\\begin{equation}\\large\n",
    "   Weighted\\;Rating =(\\frac{v}{v+m}.R )+(\\frac{m}{v+m}.C)\n",
    "\\end{equation}"
   ]
  },
  {
   "cell_type": "markdown",
   "metadata": {},
   "source": [
    "v là số phiếu bình chọn cho phim\n",
    "\n",
    "m là số phiếu tối thiểu cần thiết để được liệt kê trong biểu đồ\n",
    "\n",
    "R là rating trung bình của phim\n",
    "\n",
    "C là phiếu bầu trung bình trên toàn bộ báo cáo"
   ]
  },
  {
   "cell_type": "markdown",
   "metadata": {},
   "source": [
    "### **Build user profile based on item profile**"
   ]
  },
  {
   "cell_type": "markdown",
   "metadata": {},
   "source": [
    "Step 1: Understand the binary features\n"
   ]
  },
  {
   "cell_type": "markdown",
   "metadata": {},
   "source": [
    "Step 2: Normalize features attributes"
   ]
  },
  {
   "cell_type": "markdown",
   "metadata": {},
   "source": [
    "\\begin{equation}\\large\n",
    "   Normalized\\;feature\\; attributes = \\forall_{items}( \\frac{1}{\\sqrt{Value \\; of \\; total \\; attribute}})\n",
    "\\end{equation}"
   ]
  },
  {
   "cell_type": "markdown",
   "metadata": {},
   "source": [
    "Step 3: Values of movie genres $\\times$ Values of normalize features attributes"
   ]
  },
  {
   "cell_type": "markdown",
   "metadata": {},
   "source": [
    "Step 4: Build User Profile"
   ]
  },
  {
   "cell_type": "markdown",
   "metadata": {},
   "source": [
    "### **Collobrative-filtering (CF) based recommendation engine**"
   ]
  },
  {
   "cell_type": "markdown",
   "metadata": {},
   "source": [
    "**Types of CF**\n",
    "\n",
    "1. User-user Collaborative Filtering\n",
    "2. Item-item Collaborative Filtering\n",
    "    \n",
    "\n",
    "* User-Item Collaborative Filtering: “Users who are similar to you also liked …”\n",
    "* Item-Item Collaborative Filtering: “Users who liked this item also liked …”"
   ]
  },
  {
   "cell_type": "markdown",
   "metadata": {},
   "source": [
    "#### **User-User CF**"
   ]
  },
  {
   "cell_type": "markdown",
   "metadata": {},
   "source": [
    "<img src=\"https://raw.githubusercontent.com/jalajthanaki/Movie_recommendation_engine/master/img/2_21.png\"\n",
    "align=\"middle\" alt=\"Figure 2.21\" data-canonical-src=\"\" style=\"width:70%;height:70%\">"
   ]
  },
  {
   "cell_type": "markdown",
   "metadata": {},
   "source": [
    "#### **Item-item CF**"
   ]
  },
  {
   "cell_type": "markdown",
   "metadata": {},
   "source": [
    "<img src=\"https://raw.githubusercontent.com/jalajthanaki/Movie_recommendation_engine/master/img/2_22.png\"\n",
    "align=\"middle\" alt=\"Figure 2.22\" data-canonical-src=\"\" style=\"width:70%;height:70%\">"
   ]
  },
  {
   "cell_type": "markdown",
   "metadata": {},
   "source": [
    "Types based on techniques used for CF\n",
    "\n"
   ]
  },
  {
   "cell_type": "markdown",
   "metadata": {},
   "source": [
    "<img src=\"https://raw.githubusercontent.com/jalajthanaki/Movie_recommendation_engine/master/img/2_23.png\"\n",
    "align=\"middle\" alt=\"Figure 2.23\" data-canonical-src=\"\" style=\"width:70%;height:70%\">"
   ]
  },
  {
   "cell_type": "markdown",
   "metadata": {},
   "source": [
    "<img src=\"https://raw.githubusercontent.com/jalajthanaki/Movie_recommendation_engine/master/img/2_24.png\"\n",
    "align=\"middle\" alt=\"Figure 2.24\" data-canonical-src=\"\" style=\"width:70%;height:70%\">"
   ]
  },
  {
   "cell_type": "markdown",
   "metadata": {},
   "source": [
    "### **CF vs. Content-based**"
   ]
  },
  {
   "cell_type": "markdown",
   "metadata": {},
   "source": [
    "* All the features about items and users are coming from community of users\n",
    "* Features are not coming from metadata of the items/users"
   ]
  },
  {
   "cell_type": "markdown",
   "metadata": {},
   "source": [
    "<img src=\"https://raw.githubusercontent.com/jalajthanaki/Movie_recommendation_engine/master/img/2_25_new.png\"\n",
    "align=\"middle\" alt=\"Figure 2.25\" data-canonical-src=\"\" style=\"width:70%;height:70%\">"
   ]
  },
  {
   "cell_type": "markdown",
   "metadata": {},
   "source": [
    "#### **Maths: Behind the scene**"
   ]
  },
  {
   "cell_type": "markdown",
   "metadata": {},
   "source": [
    "**Matrix factorization : Singular Value Decomposition (SVD)**"
   ]
  },
  {
   "cell_type": "markdown",
   "metadata": {},
   "source": [
    "\\begin{equation}\\large\n",
    "   R = M\\sum U^{T}\n",
    "\\end{equation}"
   ]
  },
  {
   "cell_type": "markdown",
   "metadata": {},
   "source": [
    "* R  is equal to the product $MΣU^{T}$\n",
    "* The columns of M can build back all of the columns of R\n",
    "* The columns of U can build back all of the rows of R.\n",
    "* The columns of M are orthogonal, as well as the columns of U.\n",
    "* $\\sum$ is a diagonal matrix.\n",
    "\n",
    "\n"
   ]
  },
  {
   "cell_type": "markdown",
   "metadata": {},
   "source": [
    "<img src=\"https://raw.githubusercontent.com/jalajthanaki/Movie_recommendation_engine/master/img/2_26.png\"\n",
    "align=\"middle\" alt=\"Figure 2.26\" data-canonical-src=\"\" style=\"width:70%;height:70%\">"
   ]
  },
  {
   "cell_type": "markdown",
   "metadata": {},
   "source": [
    "\n",
    "\\begin{equation}\\large\n",
    "   r_{ui} = p_{u} . q_{i}\n",
    "\\end{equation}"
   ]
  },
  {
   "cell_type": "markdown",
   "metadata": {},
   "source": [
    "* If R is an $ m \\times n $ matrix then\n",
    "\n",
    "    * M is an $ m \\times r$ orthogonal matrix\n",
    "    * $\\sum$ is an $ r \\times r$ diagonal matrix with non-negative real numbers on the diagonal\n",
    "    * $U^{T}$ is an $ r\\times n$ orthogonal matrix"
   ]
  },
  {
   "cell_type": "markdown",
   "metadata": {},
   "source": [
    "\\begin{equation}\\large\n",
    "   r_{ui} = p_{u} . q_{i} = \\sum_{f\\in\\; latent factors}\\;affinity\\; of\\; u\\; for\\; f\\; \\times\\;affinity\\; of\\; i\\; \\;for\\; f\n",
    "\\end{equation}"
   ]
  },
  {
   "cell_type": "markdown",
   "metadata": {},
   "source": [
    "* $r_{ui}$ represent the rating of the movie\n",
    "* $p_{u}$ represents the affinity of user u for each of the latent factors.\n",
    "* $q_{i}$ represents the affinity of the item i for the latent factors"
   ]
  },
  {
   "cell_type": "markdown",
   "metadata": {},
   "source": [
    "#### **Loss function**"
   ]
  },
  {
   "cell_type": "markdown",
   "metadata": {},
   "source": [
    "\\begin{equation}\\large\n",
    "   f_{ui}(p_{u},q_{i}) =  \\sum_{r_{ui}\\in R}(r_{ui} - p_{u}.q_{i})^2\n",
    "\\end{equation}"
   ]
  },
  {
   "cell_type": "markdown",
   "metadata": {},
   "source": [
    "* $p_{u}$ and $q_{i}$ can be found in such a way that the square error difference between their dot product and\n",
    "  the known rating in the user-item matrix is minimum"
   ]
  },
  {
   "cell_type": "markdown",
   "metadata": {},
   "source": [
    "\\begin{equation}\\large\n",
    "   minimum \\sum_{r_{ui}\\in R}(r_{ui} - p_{u}.q_{i})^2\n",
    "\\end{equation}"
   ]
  },
  {
   "cell_type": "markdown",
   "metadata": {},
   "source": [
    "* Minimize error function with help of gradient descent"
   ]
  },
  {
   "cell_type": "markdown",
   "metadata": {},
   "source": [
    "\\begin{equation}\\large\n",
    "    \\frac{\\partial f_{ui}}{\\partial p_{u}} = \\frac{\\partial}{\\partial p_{u}}(r_{ui} - p_{u}.q_{i})^{2} = -2q_{i}(r_{ui} - p_{u}.q_{i})\n",
    "\\end{equation}\n",
    "\n"
   ]
  },
  {
   "cell_type": "markdown",
   "metadata": {},
   "source": [
    "\\begin{equation}\\large\n",
    "    \\frac{\\partial f_{ui}}{\\partial q_{i}} = \\frac{\\partial}{\\partial q_{i}}(r_{ui} - p_{u}.q_{i})^{2} = -2p_{u}(r_{ui} - p_{u}.q_{i})\n",
    "\\end{equation}"
   ]
  },
  {
   "cell_type": "markdown",
   "metadata": {},
   "source": [
    "##### **Algorithm to predict the ratings**"
   ]
  },
  {
   "cell_type": "markdown",
   "metadata": {},
   "source": [
    "1. Randomly initialize all vectors $p_{u}$ and $q_{i}$\n",
    "2. For given number of times, repeat: (no of iterations)\n",
    "    * For all known rating $r_{ui}$, repeat:\n",
    "        * Compute $\\frac{\\partial f_{ui}}{\\partial p_{u}}$ and $\\frac{\\partial f_{ui}}{\\partial q_{i}}$\n",
    "        * Update $p_{u}$ and $q_{i}$\n",
    "            * $p_{u}\\leftarrow p_{u} + \\alpha . q_{i}(r_{ui} - p_{u}.q_{i})$\n",
    "            * $q_{i}\\leftarrow q_{i} + \\alpha.p_{u}(r_{ui} - p_{u}.q_{i}) $\n",
    "            \n",
    "            \n",
    "            \n",
    "Note: $\\alpha$ is learning rate. We merged 2 with learning rate"
   ]
  },
  {
   "cell_type": "markdown",
   "metadata": {},
   "source": [
    "* Once all the vectors $p_{u}$ and $q_{i}$ have been computed, we can estimate all the ratings we want using the formula:\n",
    "\n",
    "\\begin{equation}\\large\n",
    "    \\hat r_{ui}=p_{u}⋅q_{i}.\n",
    "\\end{equation}\n"
   ]
  },
  {
   "cell_type": "markdown",
   "metadata": {},
   "source": [
    "### **Evalute recommendation system**"
   ]
  },
  {
   "cell_type": "markdown",
   "metadata": {},
   "source": [
    "**RMSE : Root-mean-square-error**\n",
    "\n",
    "* RMSE is a quadratic scoring rule that also measures the average magnitude of the error.\n",
    "* It’s the square root of the average of squared differences between prediction and actual observation."
   ]
  },
  {
   "cell_type": "markdown",
   "metadata": {},
   "source": [
    "\\begin{equation}\\large\n",
    "   RMSE = \\sqrt{\\frac{1}{n}\\sum_{j=1}^n(y_{j}-\\hat{y}_{j})^{2}}\n",
    "\\end{equation}"
   ]
  },
  {
   "cell_type": "markdown",
   "metadata": {},
   "source": [
    "**MAE : Mean Absolute Error**\n",
    "\n",
    "* MAE measures the average magnitude of the errors in a set of predictions, without considering their direction.\n",
    "* It is the average over the test sample of the absolute differences between prediction and actual observation\n",
    "  where all individual differences have equal weight.\n"
   ]
  },
  {
   "cell_type": "markdown",
   "metadata": {},
   "source": [
    "\\begin{equation}\\large\n",
    "   MAE = \\frac{1}{n}\\sum_{j=1}^{n}\\mid y_{j} - \\hat{y}_{j}\\mid\n",
    "\\end{equation}"
   ]
  }
 ],
 "metadata": {
  "language_info": {
   "name": "python"
  }
 },
 "nbformat": 4,
 "nbformat_minor": 2
}
